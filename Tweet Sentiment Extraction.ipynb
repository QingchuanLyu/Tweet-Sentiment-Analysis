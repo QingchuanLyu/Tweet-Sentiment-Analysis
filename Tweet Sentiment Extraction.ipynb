{
 "cells": [
  {
   "cell_type": "markdown",
   "metadata": {},
   "source": [
    "## Tweet Sentiment Extraction (NLP)\n",
    "\n",
    "This project extracts support phrases for English tweets' sentimental labels. The training data includes 27,481 tweets with sentiments and selected texts (support phrases). Sentiments divide into 40% tweets being neutral, 31% being positive and 28% being negative."
   ]
  },
  {
   "cell_type": "markdown",
   "metadata": {},
   "source": [
    "* Investigate top common words, special characters, and proportional length of support phrases\n",
    "* Clean part of stop words, special characters and punctuations according to investigation results\n",
    "* Compare results from Named-entity Recognition trained on cleaned and raw data for each sentiment\n",
    "* Train a four-layer Neural Network embedded with Roberta for each sentiment"
   ]
  },
  {
   "cell_type": "code",
   "execution_count": 1,
   "metadata": {
    "_kg_hide-input": false
   },
   "outputs": [],
   "source": [
    "#import libraries\n",
    "import numpy as np\n",
    "import pandas as pd\n",
    "import matplotlib\n",
    "from collections import Counter\n",
    "import matplotlib.pyplot as plt\n",
    "#store plots in notebook\n",
    "%matplotlib inline \n",
    "from IPython.display import Image\n",
    "\n",
    "import math\n",
    "import pickle\n",
    "\n",
    "\n",
    "from scipy.spatial.distance import pdist\n",
    "from sklearn.manifold import TSNE\n",
    "from sklearn.cluster import KMeans\n",
    "\n",
    "import tensorflow as tf\n",
    "import tensorflow.keras.backend as K\n",
    "#RobertaConfig\n",
    "from transformers import * \n",
    "import tokenizers\n",
    "from sklearn.model_selection import StratifiedKFold\n",
    "\n",
    "#for cleaning\n",
    "import nltk \n",
    "from wordcloud import WordCloud, STOPWORDS, ImageColorGenerator\n",
    "\n",
    "#for NER\n",
    "import spacy \n",
    "import random\n",
    "from spacy.util import compounding\n",
    "from spacy.util import minibatch\n",
    "from tqdm import tqdm\n",
    "import os\n",
    "\n",
    "from nltk.stem import PorterStemmer\n",
    "ps = PorterStemmer()\n",
    "\n",
    "#not hiding long texts\n",
    "pd.set_option('max_colwidth', 40)\n",
    "\n",
    "#for language detection\n",
    "import langdetect\n",
    "\n",
    "#filter warnings\n",
    "import warnings\n",
    "warnings.filterwarnings(\"ignore\")"
   ]
  },
  {
   "cell_type": "markdown",
   "metadata": {},
   "source": [
    "### Investigate and Clean Data"
   ]
  },
  {
   "cell_type": "code",
   "execution_count": 2,
   "metadata": {},
   "outputs": [],
   "source": [
    "#input trainning data\n",
    "train_raw = pd.read_csv(\"/Users/qingchuanlyu/Documents/Application/Projects/tweet_sentiment_extraction/input/train.csv\")"
   ]
  },
  {
   "cell_type": "code",
   "execution_count": 3,
   "metadata": {},
   "outputs": [
    {
     "data": {
      "text/html": [
       "<div>\n",
       "<style scoped>\n",
       "    .dataframe tbody tr th:only-of-type {\n",
       "        vertical-align: middle;\n",
       "    }\n",
       "\n",
       "    .dataframe tbody tr th {\n",
       "        vertical-align: top;\n",
       "    }\n",
       "\n",
       "    .dataframe thead th {\n",
       "        text-align: right;\n",
       "    }\n",
       "</style>\n",
       "<table border=\"1\" class=\"dataframe\">\n",
       "  <thead>\n",
       "    <tr style=\"text-align: right;\">\n",
       "      <th></th>\n",
       "      <th>textID</th>\n",
       "      <th>text</th>\n",
       "      <th>selected_text</th>\n",
       "      <th>sentiment</th>\n",
       "    </tr>\n",
       "  </thead>\n",
       "  <tbody>\n",
       "    <tr>\n",
       "      <th>314</th>\n",
       "      <td>fdb77c3752</td>\n",
       "      <td>NaN</td>\n",
       "      <td>NaN</td>\n",
       "      <td>neutral</td>\n",
       "    </tr>\n",
       "  </tbody>\n",
       "</table>\n",
       "</div>"
      ],
      "text/plain": [
       "         textID text selected_text sentiment\n",
       "314  fdb77c3752  NaN           NaN   neutral"
      ]
     },
     "execution_count": 3,
     "metadata": {},
     "output_type": "execute_result"
    }
   ],
   "source": [
    "#check distribution of missing data\n",
    "train_raw[train_raw.isnull().any(axis=1)]"
   ]
  },
  {
   "cell_type": "code",
   "execution_count": 4,
   "metadata": {},
   "outputs": [],
   "source": [
    "#There is only one missing values in the neural category. Just drop it.\n",
    "train_raw = train_raw.dropna()"
   ]
  },
  {
   "cell_type": "code",
   "execution_count": 5,
   "metadata": {},
   "outputs": [
    {
     "data": {
      "text/html": [
       "<div>\n",
       "<style scoped>\n",
       "    .dataframe tbody tr th:only-of-type {\n",
       "        vertical-align: middle;\n",
       "    }\n",
       "\n",
       "    .dataframe tbody tr th {\n",
       "        vertical-align: top;\n",
       "    }\n",
       "\n",
       "    .dataframe thead th {\n",
       "        text-align: right;\n",
       "    }\n",
       "</style>\n",
       "<table border=\"1\" class=\"dataframe\">\n",
       "  <thead>\n",
       "    <tr style=\"text-align: right;\">\n",
       "      <th></th>\n",
       "      <th>textID</th>\n",
       "      <th>text</th>\n",
       "      <th>selected_text</th>\n",
       "      <th>sentiment</th>\n",
       "      <th>lang</th>\n",
       "    </tr>\n",
       "  </thead>\n",
       "  <tbody>\n",
       "    <tr>\n",
       "      <th>0</th>\n",
       "      <td>cb774db0d1</td>\n",
       "      <td>I`d have responded, if I were going</td>\n",
       "      <td>I`d have responded, if I were going</td>\n",
       "      <td>neutral</td>\n",
       "      <td>en</td>\n",
       "    </tr>\n",
       "    <tr>\n",
       "      <th>1</th>\n",
       "      <td>549e992a42</td>\n",
       "      <td>Sooo SAD I will miss you here in Sa...</td>\n",
       "      <td>Sooo SAD</td>\n",
       "      <td>negative</td>\n",
       "      <td>en</td>\n",
       "    </tr>\n",
       "    <tr>\n",
       "      <th>2</th>\n",
       "      <td>088c60f138</td>\n",
       "      <td>my boss is bullying me...</td>\n",
       "      <td>bullying me</td>\n",
       "      <td>negative</td>\n",
       "      <td>en</td>\n",
       "    </tr>\n",
       "    <tr>\n",
       "      <th>3</th>\n",
       "      <td>9642c003ef</td>\n",
       "      <td>what interview! leave me alone</td>\n",
       "      <td>leave me alone</td>\n",
       "      <td>negative</td>\n",
       "      <td>en</td>\n",
       "    </tr>\n",
       "    <tr>\n",
       "      <th>4</th>\n",
       "      <td>358bd9e861</td>\n",
       "      <td>Sons of ****, why couldn`t they put...</td>\n",
       "      <td>Sons of ****,</td>\n",
       "      <td>negative</td>\n",
       "      <td>en</td>\n",
       "    </tr>\n",
       "  </tbody>\n",
       "</table>\n",
       "</div>"
      ],
      "text/plain": [
       "       textID                                     text  \\\n",
       "0  cb774db0d1      I`d have responded, if I were going   \n",
       "1  549e992a42   Sooo SAD I will miss you here in Sa...   \n",
       "2  088c60f138                my boss is bullying me...   \n",
       "3  9642c003ef           what interview! leave me alone   \n",
       "4  358bd9e861   Sons of ****, why couldn`t they put...   \n",
       "\n",
       "                         selected_text sentiment lang  \n",
       "0  I`d have responded, if I were going   neutral   en  \n",
       "1                             Sooo SAD  negative   en  \n",
       "2                          bullying me  negative   en  \n",
       "3                       leave me alone  negative   en  \n",
       "4                        Sons of ****,  negative   en  "
      ]
     },
     "execution_count": 5,
     "metadata": {},
     "output_type": "execute_result"
    }
   ],
   "source": [
    "#check it's english texts\n",
    "alpha_data  = train_raw[train_raw['text'].str.contains('[a-zA-Z]')]\n",
    "alpha_data['lang'] =alpha_data[\"text\"].apply(lambda x: langdetect.detect(x))\n",
    "alpha_data.head()"
   ]
  },
  {
   "cell_type": "code",
   "execution_count": 6,
   "metadata": {},
   "outputs": [
    {
     "data": {
      "text/html": [
       "<div>\n",
       "<style scoped>\n",
       "    .dataframe tbody tr th:only-of-type {\n",
       "        vertical-align: middle;\n",
       "    }\n",
       "\n",
       "    .dataframe tbody tr th {\n",
       "        vertical-align: top;\n",
       "    }\n",
       "\n",
       "    .dataframe thead th {\n",
       "        text-align: right;\n",
       "    }\n",
       "</style>\n",
       "<table border=\"1\" class=\"dataframe\">\n",
       "  <thead>\n",
       "    <tr style=\"text-align: right;\">\n",
       "      <th></th>\n",
       "      <th>textID</th>\n",
       "      <th>text</th>\n",
       "      <th>selected_text</th>\n",
       "      <th>sentiment</th>\n",
       "      <th>lang</th>\n",
       "    </tr>\n",
       "  </thead>\n",
       "  <tbody>\n",
       "    <tr>\n",
       "      <th>7</th>\n",
       "      <td>50e14c0bb8</td>\n",
       "      <td>Soooo high</td>\n",
       "      <td>Soooo high</td>\n",
       "      <td>neutral</td>\n",
       "      <td>so</td>\n",
       "    </tr>\n",
       "    <tr>\n",
       "      <th>42</th>\n",
       "      <td>2e7082d1c8</td>\n",
       "      <td>MAYDAY?!</td>\n",
       "      <td>MAYDAY?!</td>\n",
       "      <td>neutral</td>\n",
       "      <td>so</td>\n",
       "    </tr>\n",
       "    <tr>\n",
       "      <th>46</th>\n",
       "      <td>ddf296dffa</td>\n",
       "      <td>egh blah and boooooooooooo i dunno w...</td>\n",
       "      <td>SUCKKKKKK</td>\n",
       "      <td>negative</td>\n",
       "      <td>so</td>\n",
       "    </tr>\n",
       "    <tr>\n",
       "      <th>54</th>\n",
       "      <td>d8ba2a99a9</td>\n",
       "      <td>romance zero is funny</td>\n",
       "      <td>romance zero is funny</td>\n",
       "      <td>positive</td>\n",
       "      <td>pl</td>\n",
       "    </tr>\n",
       "    <tr>\n",
       "      <th>61</th>\n",
       "      <td>a4b0888da6</td>\n",
       "      <td>haha yes</td>\n",
       "      <td>haha yes</td>\n",
       "      <td>neutral</td>\n",
       "      <td>so</td>\n",
       "    </tr>\n",
       "    <tr>\n",
       "      <th>...</th>\n",
       "      <td>...</td>\n",
       "      <td>...</td>\n",
       "      <td>...</td>\n",
       "      <td>...</td>\n",
       "      <td>...</td>\n",
       "    </tr>\n",
       "    <tr>\n",
       "      <th>27366</th>\n",
       "      <td>de241b8d04</td>\n",
       "      <td>in 7-11  w/o you</td>\n",
       "      <td>in 7-11  w/o you</td>\n",
       "      <td>neutral</td>\n",
       "      <td>cy</td>\n",
       "    </tr>\n",
       "    <tr>\n",
       "      <th>27373</th>\n",
       "      <td>7523a28376</td>\n",
       "      <td>hey you weirdo! haha jk! I love you!</td>\n",
       "      <td>love</td>\n",
       "      <td>positive</td>\n",
       "      <td>so</td>\n",
       "    </tr>\n",
       "    <tr>\n",
       "      <th>27422</th>\n",
       "      <td>b3270b06a3</td>\n",
       "      <td>Plan, successful?</td>\n",
       "      <td>Plan, successful?</td>\n",
       "      <td>neutral</td>\n",
       "      <td>ro</td>\n",
       "    </tr>\n",
       "    <tr>\n",
       "      <th>27453</th>\n",
       "      <td>a01e5d1ddf</td>\n",
       "      <td>it`s beeen onee year</td>\n",
       "      <td>it`s beeen onee year</td>\n",
       "      <td>neutral</td>\n",
       "      <td>nl</td>\n",
       "    </tr>\n",
       "    <tr>\n",
       "      <th>27475</th>\n",
       "      <td>b78ec00df5</td>\n",
       "      <td>enjoy ur night</td>\n",
       "      <td>enjoy</td>\n",
       "      <td>positive</td>\n",
       "      <td>sq</td>\n",
       "    </tr>\n",
       "  </tbody>\n",
       "</table>\n",
       "<p>2065 rows × 5 columns</p>\n",
       "</div>"
      ],
      "text/plain": [
       "           textID                                     text  \\\n",
       "7      50e14c0bb8                               Soooo high   \n",
       "42     2e7082d1c8                                 MAYDAY?!   \n",
       "46     ddf296dffa  egh blah and boooooooooooo i dunno w...   \n",
       "54     d8ba2a99a9                    romance zero is funny   \n",
       "61     a4b0888da6                                 haha yes   \n",
       "...           ...                                      ...   \n",
       "27366  de241b8d04                         in 7-11  w/o you   \n",
       "27373  7523a28376     hey you weirdo! haha jk! I love you!   \n",
       "27422  b3270b06a3                        Plan, successful?   \n",
       "27453  a01e5d1ddf                     it`s beeen onee year   \n",
       "27475  b78ec00df5                           enjoy ur night   \n",
       "\n",
       "               selected_text sentiment lang  \n",
       "7                 Soooo high   neutral   so  \n",
       "42                  MAYDAY?!   neutral   so  \n",
       "46                 SUCKKKKKK  negative   so  \n",
       "54     romance zero is funny  positive   pl  \n",
       "61                  haha yes   neutral   so  \n",
       "...                      ...       ...  ...  \n",
       "27366       in 7-11  w/o you   neutral   cy  \n",
       "27373                   love  positive   so  \n",
       "27422      Plan, successful?   neutral   ro  \n",
       "27453   it`s beeen onee year   neutral   nl  \n",
       "27475                  enjoy  positive   sq  \n",
       "\n",
       "[2065 rows x 5 columns]"
      ]
     },
     "execution_count": 6,
     "metadata": {},
     "output_type": "execute_result"
    }
   ],
   "source": [
    "alpha_data.loc[alpha_data.lang != \"en\"]\n",
    "#Among 2064 rows categorized as languages other than English, they're either slangs or non-sense\n",
    "#can still use 'en' to create a language class within NER"
   ]
  },
  {
   "cell_type": "code",
   "execution_count": 7,
   "metadata": {},
   "outputs": [
    {
     "data": {
      "text/html": [
       "<div>\n",
       "<style scoped>\n",
       "    .dataframe tbody tr th:only-of-type {\n",
       "        vertical-align: middle;\n",
       "    }\n",
       "\n",
       "    .dataframe tbody tr th {\n",
       "        vertical-align: top;\n",
       "    }\n",
       "\n",
       "    .dataframe thead th {\n",
       "        text-align: right;\n",
       "    }\n",
       "</style>\n",
       "<table border=\"1\" class=\"dataframe\">\n",
       "  <thead>\n",
       "    <tr style=\"text-align: right;\">\n",
       "      <th></th>\n",
       "      <th>textID</th>\n",
       "      <th>text</th>\n",
       "      <th>selected_text</th>\n",
       "      <th>sentiment</th>\n",
       "      <th>text_split</th>\n",
       "    </tr>\n",
       "  </thead>\n",
       "  <tbody>\n",
       "    <tr>\n",
       "      <th>0</th>\n",
       "      <td>cb774db0d1</td>\n",
       "      <td>I`d have responded, if I were going</td>\n",
       "      <td>I`d have responded, if I were going</td>\n",
       "      <td>neutral</td>\n",
       "      <td>[I`d, have, responded,, if, I, were,...</td>\n",
       "    </tr>\n",
       "    <tr>\n",
       "      <th>1</th>\n",
       "      <td>549e992a42</td>\n",
       "      <td>Sooo SAD I will miss you here in Sa...</td>\n",
       "      <td>Sooo SAD</td>\n",
       "      <td>negative</td>\n",
       "      <td>[Sooo, SAD]</td>\n",
       "    </tr>\n",
       "    <tr>\n",
       "      <th>2</th>\n",
       "      <td>088c60f138</td>\n",
       "      <td>my boss is bullying me...</td>\n",
       "      <td>bullying me</td>\n",
       "      <td>negative</td>\n",
       "      <td>[bullying, me]</td>\n",
       "    </tr>\n",
       "    <tr>\n",
       "      <th>3</th>\n",
       "      <td>9642c003ef</td>\n",
       "      <td>what interview! leave me alone</td>\n",
       "      <td>leave me alone</td>\n",
       "      <td>negative</td>\n",
       "      <td>[leave, me, alone]</td>\n",
       "    </tr>\n",
       "    <tr>\n",
       "      <th>4</th>\n",
       "      <td>358bd9e861</td>\n",
       "      <td>Sons of ****, why couldn`t they put...</td>\n",
       "      <td>Sons of ****,</td>\n",
       "      <td>negative</td>\n",
       "      <td>[Sons, of, ****,]</td>\n",
       "    </tr>\n",
       "  </tbody>\n",
       "</table>\n",
       "</div>"
      ],
      "text/plain": [
       "       textID                                     text  \\\n",
       "0  cb774db0d1      I`d have responded, if I were going   \n",
       "1  549e992a42   Sooo SAD I will miss you here in Sa...   \n",
       "2  088c60f138                my boss is bullying me...   \n",
       "3  9642c003ef           what interview! leave me alone   \n",
       "4  358bd9e861   Sons of ****, why couldn`t they put...   \n",
       "\n",
       "                         selected_text sentiment  \\\n",
       "0  I`d have responded, if I were going   neutral   \n",
       "1                             Sooo SAD  negative   \n",
       "2                          bullying me  negative   \n",
       "3                       leave me alone  negative   \n",
       "4                        Sons of ****,  negative   \n",
       "\n",
       "                                text_split  \n",
       "0  [I`d, have, responded,, if, I, were,...  \n",
       "1                              [Sooo, SAD]  \n",
       "2                           [bullying, me]  \n",
       "3                       [leave, me, alone]  \n",
       "4                        [Sons, of, ****,]  "
      ]
     },
     "execution_count": 7,
     "metadata": {},
     "output_type": "execute_result"
    }
   ],
   "source": [
    "#split original texts before counting top common words\n",
    "train_raw['text_split'] = train_raw['selected_text'].apply(lambda x:x.split())\n",
    "train_raw.head(5)"
   ]
  },
  {
   "cell_type": "code",
   "execution_count": 8,
   "metadata": {},
   "outputs": [
    {
     "data": {
      "text/plain": [
       "Text(0.5, 1.0, 'The most common words in positive raw tweets')"
      ]
     },
     "execution_count": 8,
     "metadata": {},
     "output_type": "execute_result"
    },
    {
     "data": {
      "image/png": "[encoded data removed]",
      "text/plain": [
       "<Figure size 432x288 with 1 Axes>"
      ]
     },
     "metadata": {},
     "output_type": "display_data"
    }
   ],
   "source": [
    "#check the most common words for each sentiment (raw data, positive sentiment)\n",
    "top = Counter([item for sublist in train_raw.loc[train_raw.sentiment=='positive']['text_split'] for item in sublist])\n",
    "temp = pd.DataFrame(top.most_common(10))\n",
    "temp.columns = ['Common_words','count']\n",
    "plt.bar(temp['Common_words'], temp['count'])\n",
    "plt.title('The most common words in positive raw tweets')\n",
    "#A lot of stop words appear as the most common words of texts with positive sentiments. \n",
    "#Need to clean data then count it again."
   ]
  },
  {
   "cell_type": "code",
   "execution_count": 9,
   "metadata": {},
   "outputs": [],
   "source": [
    "#create a copy of the raw data to clean. keep the raw data to train later\n",
    "train_cl=train_raw.copy()"
   ]
  },
  {
   "cell_type": "code",
   "execution_count": 10,
   "metadata": {},
   "outputs": [],
   "source": [
    "#customize STOPWORDS: only pick words that don't signal any sentiment\n",
    "STOPWORDS -= {\"mustn't\",\"would\", \"but\", \"only\", \"too\", \"over\", \"with\", \"down\", \"against\", \"won't\", \"haven't\", \"below\", \"like\", \"all\", \"can't\", \"not\", \"isn't\", \"wouldn't\", 'off', \"doesn't\", 'ought', \"aren't\",\"didn't\", \"don't\", 'no', \"couldn't\", 'cannot','what',\"wasn't\", \"weren't\",'above','nor', \"shan't\", \"however\", \"hadn't\",  \"up\", \"why\"}\n",
    "def remove_stopword(x):\n",
    "    return [y for y in x.split() if y not in STOPWORDS]\n",
    "\n",
    "#apply customized STOPWORDS\n",
    "train_cl.text = train_cl.text.astype(str)\n",
    "train_cl.selected_text = train_cl.selected_text.astype(str)\n",
    "train_cl['selected_text'] = train_cl['selected_text'].apply(lambda x: \" \".join(remove_stopword(x)))\n",
    "train_cl['text'] = train_cl['text'].apply(lambda x: \" \".join(remove_stopword(x)))\n",
    "\n",
    "#remove empty texts\n",
    "train_cl = train_cl[(train_cl.text != '') & (train_cl.selected_text != '')]"
   ]
  },
  {
   "cell_type": "code",
   "execution_count": 11,
   "metadata": {},
   "outputs": [
    {
     "data": {
      "text/html": [
       "<div>\n",
       "<style scoped>\n",
       "    .dataframe tbody tr th:only-of-type {\n",
       "        vertical-align: middle;\n",
       "    }\n",
       "\n",
       "    .dataframe tbody tr th {\n",
       "        vertical-align: top;\n",
       "    }\n",
       "\n",
       "    .dataframe thead th {\n",
       "        text-align: right;\n",
       "    }\n",
       "</style>\n",
       "<table border=\"1\" class=\"dataframe\">\n",
       "  <thead>\n",
       "    <tr style=\"text-align: right;\">\n",
       "      <th></th>\n",
       "      <th>textID</th>\n",
       "      <th>text</th>\n",
       "      <th>selected_text</th>\n",
       "      <th>sentiment</th>\n",
       "    </tr>\n",
       "  </thead>\n",
       "  <tbody>\n",
       "    <tr>\n",
       "      <th>0</th>\n",
       "      <td>cb774db0d1</td>\n",
       "      <td>I`d responded, I going</td>\n",
       "      <td>I`d responded, I going</td>\n",
       "      <td>neutral</td>\n",
       "    </tr>\n",
       "    <tr>\n",
       "      <th>1</th>\n",
       "      <td>549e992a42</td>\n",
       "      <td>Sooo SAD I will miss San Diego!!!</td>\n",
       "      <td>Sooo SAD</td>\n",
       "      <td>negative</td>\n",
       "    </tr>\n",
       "    <tr>\n",
       "      <th>2</th>\n",
       "      <td>088c60f138</td>\n",
       "      <td>boss bullying me...</td>\n",
       "      <td>bullying</td>\n",
       "      <td>negative</td>\n",
       "    </tr>\n",
       "    <tr>\n",
       "      <th>3</th>\n",
       "      <td>9642c003ef</td>\n",
       "      <td>what interview! leave alone</td>\n",
       "      <td>leave alone</td>\n",
       "      <td>negative</td>\n",
       "    </tr>\n",
       "    <tr>\n",
       "      <th>4</th>\n",
       "      <td>358bd9e861</td>\n",
       "      <td>Sons ****, why couldn`t put releases...</td>\n",
       "      <td>Sons ****,</td>\n",
       "      <td>negative</td>\n",
       "    </tr>\n",
       "  </tbody>\n",
       "</table>\n",
       "</div>"
      ],
      "text/plain": [
       "       textID                                     text  \\\n",
       "0  cb774db0d1                   I`d responded, I going   \n",
       "1  549e992a42        Sooo SAD I will miss San Diego!!!   \n",
       "2  088c60f138                      boss bullying me...   \n",
       "3  9642c003ef              what interview! leave alone   \n",
       "4  358bd9e861  Sons ****, why couldn`t put releases...   \n",
       "\n",
       "            selected_text sentiment  \n",
       "0  I`d responded, I going   neutral  \n",
       "1                Sooo SAD  negative  \n",
       "2                bullying  negative  \n",
       "3             leave alone  negative  \n",
       "4              Sons ****,  negative  "
      ]
     },
     "execution_count": 11,
     "metadata": {},
     "output_type": "execute_result"
    }
   ],
   "source": [
    "train_cl = train_cl.drop(['text_split'], axis = 1)\n",
    "train_cl.head(5)"
   ]
  },
  {
   "cell_type": "code",
   "execution_count": 12,
   "metadata": {},
   "outputs": [],
   "source": [
    "#stemming: chop off the end of words (affixes)\n",
    "train_cl['selected_text'] = train_cl['selected_text'].apply(lambda x: \" \".join([ps.stem(word) for word in x.split()]))\n",
    "train_cl['text'] = train_cl['text'].apply(lambda x: \" \".join([ps.stem(word) for word in x.split()]))"
   ]
  },
  {
   "cell_type": "code",
   "execution_count": 13,
   "metadata": {},
   "outputs": [
    {
     "data": {
      "text/html": [
       "<div>\n",
       "<style scoped>\n",
       "    .dataframe tbody tr th:only-of-type {\n",
       "        vertical-align: middle;\n",
       "    }\n",
       "\n",
       "    .dataframe tbody tr th {\n",
       "        vertical-align: top;\n",
       "    }\n",
       "\n",
       "    .dataframe thead th {\n",
       "        text-align: right;\n",
       "    }\n",
       "</style>\n",
       "<table border=\"1\" class=\"dataframe\">\n",
       "  <thead>\n",
       "    <tr style=\"text-align: right;\">\n",
       "      <th></th>\n",
       "      <th>textID</th>\n",
       "      <th>text</th>\n",
       "      <th>selected_text</th>\n",
       "      <th>sentiment</th>\n",
       "    </tr>\n",
       "  </thead>\n",
       "  <tbody>\n",
       "    <tr>\n",
       "      <th>0</th>\n",
       "      <td>cb774db0d1</td>\n",
       "      <td>i`d responded, I go</td>\n",
       "      <td>i`d responded, I go</td>\n",
       "      <td>neutral</td>\n",
       "    </tr>\n",
       "    <tr>\n",
       "      <th>1</th>\n",
       "      <td>549e992a42</td>\n",
       "      <td>sooo sad I will miss san diego!!!</td>\n",
       "      <td>sooo sad</td>\n",
       "      <td>negative</td>\n",
       "    </tr>\n",
       "    <tr>\n",
       "      <th>2</th>\n",
       "      <td>088c60f138</td>\n",
       "      <td>boss bulli me...</td>\n",
       "      <td>bulli</td>\n",
       "      <td>negative</td>\n",
       "    </tr>\n",
       "    <tr>\n",
       "      <th>3</th>\n",
       "      <td>9642c003ef</td>\n",
       "      <td>what interview! leav alon</td>\n",
       "      <td>leav alon</td>\n",
       "      <td>negative</td>\n",
       "    </tr>\n",
       "    <tr>\n",
       "      <th>4</th>\n",
       "      <td>358bd9e861</td>\n",
       "      <td>son ****, whi couldn`t put releas al...</td>\n",
       "      <td>son ****,</td>\n",
       "      <td>negative</td>\n",
       "    </tr>\n",
       "  </tbody>\n",
       "</table>\n",
       "</div>"
      ],
      "text/plain": [
       "       textID                                     text        selected_text  \\\n",
       "0  cb774db0d1                      i`d responded, I go  i`d responded, I go   \n",
       "1  549e992a42        sooo sad I will miss san diego!!!             sooo sad   \n",
       "2  088c60f138                         boss bulli me...                bulli   \n",
       "3  9642c003ef                what interview! leav alon            leav alon   \n",
       "4  358bd9e861  son ****, whi couldn`t put releas al...            son ****,   \n",
       "\n",
       "  sentiment  \n",
       "0   neutral  \n",
       "1  negative  \n",
       "2  negative  \n",
       "3  negative  \n",
       "4  negative  "
      ]
     },
     "execution_count": 13,
     "metadata": {},
     "output_type": "execute_result"
    }
   ],
   "source": [
    "train_cl.head(5)\n",
    "#affixes, such as 'ing', are removed"
   ]
  },
  {
   "cell_type": "code",
   "execution_count": 14,
   "metadata": {},
   "outputs": [
    {
     "data": {
      "text/html": [
       "<div>\n",
       "<style scoped>\n",
       "    .dataframe tbody tr th:only-of-type {\n",
       "        vertical-align: middle;\n",
       "    }\n",
       "\n",
       "    .dataframe tbody tr th {\n",
       "        vertical-align: top;\n",
       "    }\n",
       "\n",
       "    .dataframe thead th {\n",
       "        text-align: right;\n",
       "    }\n",
       "</style>\n",
       "<table border=\"1\" class=\"dataframe\">\n",
       "  <thead>\n",
       "    <tr style=\"text-align: right;\">\n",
       "      <th></th>\n",
       "      <th>textID</th>\n",
       "      <th>text</th>\n",
       "      <th>selected_text</th>\n",
       "      <th>sentiment</th>\n",
       "      <th>text_split</th>\n",
       "    </tr>\n",
       "  </thead>\n",
       "  <tbody>\n",
       "    <tr>\n",
       "      <th>8120</th>\n",
       "      <td>4a265d8a34</td>\n",
       "      <td>****</td>\n",
       "      <td>****</td>\n",
       "      <td>negative</td>\n",
       "      <td>[****]</td>\n",
       "    </tr>\n",
       "    <tr>\n",
       "      <th>26005</th>\n",
       "      <td>0b3fe0ca78</td>\n",
       "      <td>?</td>\n",
       "      <td>?</td>\n",
       "      <td>neutral</td>\n",
       "      <td>[?]</td>\n",
       "    </tr>\n",
       "  </tbody>\n",
       "</table>\n",
       "</div>"
      ],
      "text/plain": [
       "           textID   text selected_text sentiment text_split\n",
       "8120   4a265d8a34   ****          ****  negative     [****]\n",
       "26005  0b3fe0ca78      ?             ?   neutral        [?]"
      ]
     },
     "execution_count": 14,
     "metadata": {},
     "output_type": "execute_result"
    }
   ],
   "source": [
    "#check texts that only contain special characters or punctuations\n",
    "train_raw[~train_raw['text'].str.contains('[A-Za-z0-9]')]  "
   ]
  },
  {
   "cell_type": "code",
   "execution_count": 15,
   "metadata": {},
   "outputs": [],
   "source": [
    "#remove part of punctuations; \n",
    "#texts that only contain * can be curses and signal negative sentiment\n",
    "def remove_periods(x):\n",
    "    return [word.translate(str.maketrans({',': '', '.': '', '|': ''})) for word in x.split()]\n",
    "train_cl['selected_text'] = train_cl['selected_text'].apply(lambda x: \" \".join(remove_periods(x)))\n",
    "train_cl['text'] = train_cl['text'].apply(lambda x: \" \".join(remove_periods(x)))"
   ]
  },
  {
   "cell_type": "code",
   "execution_count": 16,
   "metadata": {},
   "outputs": [],
   "source": [
    "#don't need the column of text ids\n",
    "train_cl=train_cl.drop(['textID'], axis = 1)"
   ]
  },
  {
   "cell_type": "code",
   "execution_count": 17,
   "metadata": {},
   "outputs": [
    {
     "data": {
      "text/plain": [
       "Text(0.5, 1.0, 'The most common words in cleaned data (positive sentiments)')"
      ]
     },
     "execution_count": 17,
     "metadata": {},
     "output_type": "execute_result"
    },
    {
     "data": {
      "image/png": "[encoded data removed]",
      "text/plain": [
       "<Figure size 432x288 with 1 Axes>"
      ]
     },
     "metadata": {},
     "output_type": "display_data"
    }
   ],
   "source": [
    "#check again the most common words for each sentiment (cleaned data)\n",
    "train_cl['text_split'] = train_cl['selected_text'].apply(lambda x:str(x).split())\n",
    "top = Counter([item for sublist in train_cl.loc[train_cl.sentiment=='positive']['text_split'] for item in sublist])\n",
    "temp = pd.DataFrame(top.most_common(10))\n",
    "temp.columns = ['Common_words','count']\n",
    "plt.bar(temp['Common_words'], temp['count'])\n",
    "plt.title('The most common words in cleaned data (positive sentiments)')\n",
    "#love, good, happi and thank are strong signals of being a positive text"
   ]
  },
  {
   "cell_type": "code",
   "execution_count": 18,
   "metadata": {},
   "outputs": [
    {
     "data": {
      "text/plain": [
       "Text(0.5, 1.0, 'The most common words in cleaned data (negative sentiments)')"
      ]
     },
     "execution_count": 18,
     "metadata": {},
     "output_type": "execute_result"
    },
    {
     "data": {
      "image/png": "[encoded data removed]",
      "text/plain": [
       "<Figure size 432x288 with 1 Axes>"
      ]
     },
     "metadata": {},
     "output_type": "display_data"
    }
   ],
   "source": [
    "top = Counter([item for sublist in train_cl.loc[train_cl.sentiment=='negative']['text_split'] for item in sublist])\n",
    "temp = pd.DataFrame(top.most_common(10))\n",
    "temp.columns = ['Common_words','count']\n",
    "plt.bar(temp['Common_words'], temp['count'])\n",
    "plt.title('The most common words in cleaned data (negative sentiments)')\n",
    "#not, but, miss and like are strong signals of being a negative text"
   ]
  },
  {
   "cell_type": "code",
   "execution_count": 19,
   "metadata": {},
   "outputs": [
    {
     "data": {
      "text/plain": [
       "Text(0.5, 1.0, 'The most common words in cleaned data (neutral sentiments)')"
      ]
     },
     "execution_count": 19,
     "metadata": {},
     "output_type": "execute_result"
    },
    {
     "data": {
      "image/png": "[encoded data removed]",
      "text/plain": [
       "<Figure size 432x288 with 1 Axes>"
      ]
     },
     "metadata": {},
     "output_type": "display_data"
    }
   ],
   "source": [
    "top = Counter([item for sublist in train_cl.loc[train_cl.sentiment=='neutral']['text_split'] for item in sublist])\n",
    "temp = pd.DataFrame(top.most_common(10))\n",
    "temp.columns = ['Common_words','count']\n",
    "plt.bar(temp['Common_words'], temp['count'])\n",
    "plt.title('The most common words in cleaned data (neutral sentiments)')\n",
    "#neutral texts don't have many strong indicators of feelings"
   ]
  },
  {
   "cell_type": "markdown",
   "metadata": {},
   "source": [
    "As different sentiments correspond to different most common words (different signals), this suggests I train models for different sentiment separately. Before training models, check the different length (number of words) between original and selected texts for each sentiment."
   ]
  },
  {
   "cell_type": "code",
   "execution_count": 62,
   "metadata": {},
   "outputs": [
    {
     "data": {
      "text/plain": [
       "(0    0\n",
       " dtype: int64,\n",
       " 2.0,\n",
       " 5.8003639010189225)"
      ]
     },
     "execution_count": 62,
     "metadata": {},
     "output_type": "execute_result"
    }
   ],
   "source": [
    "#check lengths of selected texts as the proportion of the length of original texts in training data. \n",
    "#compute number of words in selected text\n",
    "train_raw['len_selected_text'] = train_raw['selected_text'].apply(lambda x:len(str(x).split())) \n",
    "#compute number of words in original text\n",
    "train_raw['len_text'] = train_raw['text'].apply(lambda x:len(str(x).split())) \n",
    "#compute the difference between lengths. should be always positive\n",
    "train_raw['difference_in_words'] = train_raw['len_text'] - train_raw['len_selected_text']\n",
    "train_raw['difference_in_words'].mode(), train_raw['difference_in_words'].median(), train_raw['difference_in_words'].mean()\n",
    "#0 = mode of length difference between texts and selected_texts \n",
    "#2 = median of length difference between texts and selected_texts\n",
    "#5.8 = mean of length difference between texts and selected_texts. "
   ]
  },
  {
   "cell_type": "code",
   "execution_count": 63,
   "metadata": {},
   "outputs": [
    {
     "data": {
      "text/plain": [
       "Text(0, 0.5, 'Counts')"
      ]
     },
     "execution_count": 63,
     "metadata": {},
     "output_type": "execute_result"
    },
    {
     "data": {
      "image/png": "[encoded data removed]",
      "text/plain": [
       "<Figure size 576x360 with 1 Axes>"
      ]
     },
     "metadata": {},
     "output_type": "display_data"
    }
   ],
   "source": [
    "#Next, check difference of number of words for different sentiments\n",
    "sentiments = ['positive', 'negative', 'neutral']\n",
    "fig, ax = plt.subplots(figsize=(8,5))\n",
    "for s in sentiments:\n",
    "    temp = train_raw.loc[(train_raw.sentiment == s)]\\\n",
    "           .groupby('difference_in_words').agg(length_diff_count= ('difference_in_words', 'size')).reset_index()\n",
    "    ax.scatter(temp['difference_in_words'], temp['length_diff_count'])\n",
    "    ax.legend(sentiments)\n",
    "ax.set_title('Counts of word length difference by sentiments')\n",
    "ax.set_xlabel('Difference of the number of words')\n",
    "ax.set_ylabel('Counts')"
   ]
  },
  {
   "cell_type": "code",
   "execution_count": 21,
   "metadata": {},
   "outputs": [
    {
     "data": {
      "text/plain": [
       "(11117, 8582, 7781)"
      ]
     },
     "execution_count": 21,
     "metadata": {},
     "output_type": "execute_result"
    }
   ],
   "source": [
    "#check the number of tweets for each sentiment\n",
    "len(train_raw.loc[train_raw.sentiment == 'neutral']), len(train_raw.loc[train_raw.sentiment == 'positive']), len(train_raw.loc[train_raw.sentiment == 'negative'])\n",
    "#almost all neutral tweets have the support phrases the same as the whole text"
   ]
  },
  {
   "cell_type": "code",
   "execution_count": 75,
   "metadata": {},
   "outputs": [],
   "source": [
    "train_cl = train_cl.drop(['text_split'], axis = 1)\n",
    "train_raw = train_raw.drop(['text_split', 'len_selected_text', 'len_text', 'difference_in_words'], axis = 1)"
   ]
  },
  {
   "cell_type": "code",
   "execution_count": 78,
   "metadata": {},
   "outputs": [
    {
     "data": {
      "text/html": [
       "<div>\n",
       "<style scoped>\n",
       "    .dataframe tbody tr th:only-of-type {\n",
       "        vertical-align: middle;\n",
       "    }\n",
       "\n",
       "    .dataframe tbody tr th {\n",
       "        vertical-align: top;\n",
       "    }\n",
       "\n",
       "    .dataframe thead th {\n",
       "        text-align: right;\n",
       "    }\n",
       "</style>\n",
       "<table border=\"1\" class=\"dataframe\">\n",
       "  <thead>\n",
       "    <tr style=\"text-align: right;\">\n",
       "      <th></th>\n",
       "      <th>textID</th>\n",
       "      <th>text</th>\n",
       "      <th>selected_text</th>\n",
       "      <th>sentiment</th>\n",
       "    </tr>\n",
       "  </thead>\n",
       "  <tbody>\n",
       "    <tr>\n",
       "      <th>0</th>\n",
       "      <td>cb774db0d1</td>\n",
       "      <td>I`d have responded, if I were going</td>\n",
       "      <td>I`d have responded, if I were going</td>\n",
       "      <td>neutral</td>\n",
       "    </tr>\n",
       "    <tr>\n",
       "      <th>1</th>\n",
       "      <td>549e992a42</td>\n",
       "      <td>Sooo SAD I will miss you here in Sa...</td>\n",
       "      <td>Sooo SAD</td>\n",
       "      <td>negative</td>\n",
       "    </tr>\n",
       "    <tr>\n",
       "      <th>2</th>\n",
       "      <td>088c60f138</td>\n",
       "      <td>my boss is bullying me...</td>\n",
       "      <td>bullying me</td>\n",
       "      <td>negative</td>\n",
       "    </tr>\n",
       "    <tr>\n",
       "      <th>3</th>\n",
       "      <td>9642c003ef</td>\n",
       "      <td>what interview! leave me alone</td>\n",
       "      <td>leave me alone</td>\n",
       "      <td>negative</td>\n",
       "    </tr>\n",
       "    <tr>\n",
       "      <th>4</th>\n",
       "      <td>358bd9e861</td>\n",
       "      <td>Sons of ****, why couldn`t they put...</td>\n",
       "      <td>Sons of ****,</td>\n",
       "      <td>negative</td>\n",
       "    </tr>\n",
       "  </tbody>\n",
       "</table>\n",
       "</div>"
      ],
      "text/plain": [
       "       textID                                     text  \\\n",
       "0  cb774db0d1      I`d have responded, if I were going   \n",
       "1  549e992a42   Sooo SAD I will miss you here in Sa...   \n",
       "2  088c60f138                my boss is bullying me...   \n",
       "3  9642c003ef           what interview! leave me alone   \n",
       "4  358bd9e861   Sons of ****, why couldn`t they put...   \n",
       "\n",
       "                         selected_text sentiment  \n",
       "0  I`d have responded, if I were going   neutral  \n",
       "1                             Sooo SAD  negative  \n",
       "2                          bullying me  negative  \n",
       "3                       leave me alone  negative  \n",
       "4                        Sons of ****,  negative  "
      ]
     },
     "execution_count": 78,
     "metadata": {},
     "output_type": "execute_result"
    }
   ],
   "source": [
    "train_raw.head(5)"
   ]
  },
  {
   "cell_type": "markdown",
   "metadata": {},
   "source": [
    "The above plot shows that neutral texts, different from positive and negative texts, have a significantly large amount of selected texts with the same length as the original texts. The distribution of counts of positive and negative texts are similar most of time. This confirms the previous observation: I need to train models for different sentiments separately."
   ]
  },
  {
   "cell_type": "markdown",
   "metadata": {},
   "source": [
    "### Train cleaned data with Named-entity Recognition\n",
    "Train data for each sentiment separately. Take the support phrases (selected texts) as entities."
   ]
  },
  {
   "cell_type": "code",
   "execution_count": 64,
   "metadata": {},
   "outputs": [],
   "source": [
    "#define model path for each sentiment\n",
    "def get_model_out_path(sentiment):\n",
    "    model_out_path = None\n",
    "    if sentiment == 'positive':\n",
    "        model_out_path = '/Users/qingchuanlyu/Documents/Application/Projects/tweet_sentiment_extraction/NER/models_cl/model_pos'\n",
    "    elif sentiment == 'negative':\n",
    "        model_out_path = '/Users/qingchuanlyu/Documents/Application/Projects/tweet_sentiment_extraction/NER/models_cl/model_neg'\n",
    "    else:\n",
    "        model_out_path = '/Users/qingchuanlyu/Documents/Application/Projects/tweet_sentiment_extraction/NER/models_cl/model_neu'\n",
    "    return model_out_path"
   ]
  },
  {
   "cell_type": "code",
   "execution_count": 65,
   "metadata": {},
   "outputs": [],
   "source": [
    "#saving paths of trained models\n",
    "def save_model(output_dir, nlp, new_model_name):\n",
    "    output_dir = '/Users/qingchuanlyu/Documents/Application/Projects/{output_dir}'\n",
    "    if output_dir is not None:        \n",
    "        if not os.path.exists(output_dir):\n",
    "            os.makedirs(output_dir)\n",
    "        nlp.meta[\"name\"] = new_model_name\n",
    "        nlp.to_disk(output_dir)\n",
    "        print(\"Saved model to\", output_dir)"
   ]
  },
  {
   "cell_type": "code",
   "execution_count": 66,
   "metadata": {},
   "outputs": [],
   "source": [
    "#pass model = None to train on data directly, or nl; to train on top of existing models\n",
    "def train(train_data, output_dir, n_iter=10, model=None):\n",
    "    \"\"\"Load the model, set up the pipeline and train the entity recognizer.\"\"\"\n",
    "    \"\"\n",
    "    if model is not None:\n",
    "        nlp = spacy.load(output_dir)  #load existing spaCy model\n",
    "        print(\"Loaded model '%s'\" % model)\n",
    "    else:\n",
    "        nlp = spacy.blank(\"en\")  #create blank Language class (not from spacy)\n",
    "        print(\"Created blank 'en' model\")\n",
    "    \n",
    "    \n",
    "    #create the built-in pipeline components and add them to the pipeline\n",
    "    #nlp.create_pipe works for built-ins that are registered with spaCy\n",
    "    if \"ner\" not in nlp.pipe_names:\n",
    "        ner = nlp.create_pipe(\"ner\")\n",
    "        nlp.add_pipe(ner, last=True)\n",
    "    #otherwise, get it to add labels\n",
    "    else:\n",
    "        ner = nlp.get_pipe(\"ner\")\n",
    "    \n",
    "    #add labels to the 'ner'\n",
    "    for _, annotations in train_data:\n",
    "        for ent in annotations.get(\"entities\"):\n",
    "            ner.add_label(ent[2])\n",
    "\n",
    "    #get names of other pipes to disable them during training\n",
    "    other_pipes = [pipe for pipe in nlp.pipe_names if pipe != \"ner\"]\n",
    "    with nlp.disable_pipes(*other_pipes):  #only train NER\n",
    "        if model is None:\n",
    "            nlp.begin_training()\n",
    "        else:\n",
    "            nlp.resume_training()\n",
    "        #To train an ner model, the model has to be looped over the example for sufficient number of iterations\n",
    "        #here, n_iter = 10\n",
    "        for itn in tqdm(range(n_iter)):#tqdm shows a progress bar\n",
    "            random.shuffle(train_data)\n",
    "            #minibatch function takes size parameter to denote the batch size. \n",
    "            #use the utility function compounding to generate series of compounding values.\n",
    "            #compounding(start, end, compounding factor): start * factor * factor ... till end\n",
    "            batches = minibatch(train_data, size=compounding(4.0, 500.0, 1.001))    \n",
    "            #losses: A dictionary to hold the losses against each pipeline component. \n",
    "            #Create an empty dictionary and pass it here.\n",
    "            losses = {}\n",
    "            for batch in batches:\n",
    "                #use * for unpack in zip()\n",
    "                texts, annotations = zip(*batch)\n",
    "                nlp.update(\n",
    "                    texts,  #batch of texts\n",
    "                    annotations,  #batch of annotations\n",
    "                    drop=0.5,   #dropout - make it harder to memorise data\n",
    "                    losses=losses, \n",
    "                )\n",
    "            \n",
    "            print(\"Losses\", losses)\n",
    "    save_model(output_dir, nlp, 'st_ner')"
   ]
  },
  {
   "cell_type": "code",
   "execution_count": 67,
   "metadata": {},
   "outputs": [
    {
     "data": {
      "text/plain": [
       "(array([], dtype=int64), array([], dtype=int64))"
      ]
     },
     "execution_count": 67,
     "metadata": {},
     "output_type": "execute_result"
    }
   ],
   "source": [
    "#chceck if there's an empty text or selected text--cannot be used with spacy NER\n",
    "np.where(train_cl.applymap(lambda x: x == ''))"
   ]
  },
  {
   "cell_type": "code",
   "execution_count": 68,
   "metadata": {},
   "outputs": [],
   "source": [
    "#define entities: support phrases, and remove extra white spaces at the beginning/end\n",
    "def get_training_data(sentiment, train_df):\n",
    "    train_data = []\n",
    "    for index, row in train_df.iterrows():\n",
    "        if row.sentiment == sentiment:\n",
    "            #use strip to remove leading and trailing spaces\n",
    "            selected_text = row.selected_text.strip()\n",
    "            text = row.text.strip()\n",
    "            start = text.find(selected_text)\n",
    "            end = start + len(selected_text)\n",
    "            train_data.append((text, {\"entities\": [[start, end, 'selected_text']]}))\n",
    "    return train_data"
   ]
  },
  {
   "cell_type": "code",
   "execution_count": 79,
   "metadata": {},
   "outputs": [
    {
     "name": "stderr",
     "output_type": "stream",
     "text": [
      "  0%|          | 0/8 [00:00<?, ?it/s]"
     ]
    },
    {
     "name": "stdout",
     "output_type": "stream",
     "text": [
      "Created blank 'en' model\n"
     ]
    },
    {
     "name": "stderr",
     "output_type": "stream",
     "text": [
      " 12%|█▎        | 1/8 [00:45<05:17, 45.34s/it]"
     ]
    },
    {
     "name": "stdout",
     "output_type": "stream",
     "text": [
      "Losses {'ner': 25736.788739059004}\n"
     ]
    },
    {
     "name": "stderr",
     "output_type": "stream",
     "text": [
      " 25%|██▌       | 2/8 [01:25<04:22, 43.81s/it]"
     ]
    },
    {
     "name": "stdout",
     "output_type": "stream",
     "text": [
      "Losses {'ner': 23528.080547430916}\n"
     ]
    },
    {
     "name": "stderr",
     "output_type": "stream",
     "text": [
      " 38%|███▊      | 3/8 [02:05<03:33, 42.71s/it]"
     ]
    },
    {
     "name": "stdout",
     "output_type": "stream",
     "text": [
      "Losses {'ner': 22666.227156140325}\n"
     ]
    },
    {
     "name": "stderr",
     "output_type": "stream",
     "text": [
      " 50%|█████     | 4/8 [02:47<02:50, 42.58s/it]"
     ]
    },
    {
     "name": "stdout",
     "output_type": "stream",
     "text": [
      "Losses {'ner': 21953.839725222875}\n"
     ]
    },
    {
     "name": "stderr",
     "output_type": "stream",
     "text": [
      " 62%|██████▎   | 5/8 [03:28<02:06, 42.00s/it]"
     ]
    },
    {
     "name": "stdout",
     "output_type": "stream",
     "text": [
      "Losses {'ner': 21568.206311614515}\n"
     ]
    },
    {
     "name": "stderr",
     "output_type": "stream",
     "text": [
      " 75%|███████▌  | 6/8 [04:11<01:24, 42.27s/it]"
     ]
    },
    {
     "name": "stdout",
     "output_type": "stream",
     "text": [
      "Losses {'ner': 20921.38878667863}\n"
     ]
    },
    {
     "name": "stderr",
     "output_type": "stream",
     "text": [
      " 88%|████████▊ | 7/8 [04:58<00:43, 43.75s/it]"
     ]
    },
    {
     "name": "stdout",
     "output_type": "stream",
     "text": [
      "Losses {'ner': 20385.057398884404}\n"
     ]
    },
    {
     "name": "stderr",
     "output_type": "stream",
     "text": [
      "100%|██████████| 8/8 [05:48<00:00, 43.56s/it]"
     ]
    },
    {
     "name": "stdout",
     "output_type": "stream",
     "text": [
      "Losses {'ner': 19879.090874361213}\n",
      "Saved model to /Users/qingchuanlyu/Documents/Application/Projects/{output_dir}\n"
     ]
    },
    {
     "name": "stderr",
     "output_type": "stream",
     "text": [
      "\n"
     ]
    }
   ],
   "source": [
    "#train positive tweets\n",
    "sentiment = 'positive'\n",
    "\n",
    "train_data = get_training_data(sentiment, train_cl)\n",
    "model_path = get_model_out_path(sentiment)\n",
    "\n",
    "train(train_data, model_path, n_iter=8, model=None)"
   ]
  },
  {
   "cell_type": "code",
   "execution_count": 80,
   "metadata": {},
   "outputs": [
    {
     "name": "stderr",
     "output_type": "stream",
     "text": [
      "  0%|          | 0/8 [00:00<?, ?it/s]"
     ]
    },
    {
     "name": "stdout",
     "output_type": "stream",
     "text": [
      "Created blank 'en' model\n"
     ]
    },
    {
     "name": "stderr",
     "output_type": "stream",
     "text": [
      " 12%|█▎        | 1/8 [00:53<06:14, 53.50s/it]"
     ]
    },
    {
     "name": "stdout",
     "output_type": "stream",
     "text": [
      "Losses {'ner': 6065.923520103242}\n"
     ]
    },
    {
     "name": "stderr",
     "output_type": "stream",
     "text": [
      " 25%|██▌       | 2/8 [01:53<05:33, 55.53s/it]"
     ]
    },
    {
     "name": "stdout",
     "output_type": "stream",
     "text": [
      "Losses {'ner': 4993.1503220444165}\n"
     ]
    },
    {
     "name": "stderr",
     "output_type": "stream",
     "text": [
      " 38%|███▊      | 3/8 [02:50<04:39, 55.83s/it]"
     ]
    },
    {
     "name": "stdout",
     "output_type": "stream",
     "text": [
      "Losses {'ner': 4852.670993003616}\n"
     ]
    },
    {
     "name": "stderr",
     "output_type": "stream",
     "text": [
      " 50%|█████     | 4/8 [03:48<03:45, 56.41s/it]"
     ]
    },
    {
     "name": "stdout",
     "output_type": "stream",
     "text": [
      "Losses {'ner': 4984.31676011499}\n"
     ]
    },
    {
     "name": "stderr",
     "output_type": "stream",
     "text": [
      " 62%|██████▎   | 5/8 [04:44<02:49, 56.42s/it]"
     ]
    },
    {
     "name": "stdout",
     "output_type": "stream",
     "text": [
      "Losses {'ner': 4859.370355415915}\n"
     ]
    },
    {
     "name": "stderr",
     "output_type": "stream",
     "text": [
      " 75%|███████▌  | 6/8 [05:39<01:51, 55.91s/it]"
     ]
    },
    {
     "name": "stdout",
     "output_type": "stream",
     "text": [
      "Losses {'ner': 4530.855946970908}\n"
     ]
    },
    {
     "name": "stderr",
     "output_type": "stream",
     "text": [
      " 88%|████████▊ | 7/8 [06:33<00:55, 55.57s/it]"
     ]
    },
    {
     "name": "stdout",
     "output_type": "stream",
     "text": [
      "Losses {'ner': 4401.452591465702}\n"
     ]
    },
    {
     "name": "stderr",
     "output_type": "stream",
     "text": [
      "100%|██████████| 8/8 [07:28<00:00, 56.07s/it]"
     ]
    },
    {
     "name": "stdout",
     "output_type": "stream",
     "text": [
      "Losses {'ner': 4435.302763551918}\n",
      "Saved model to /Users/qingchuanlyu/Documents/Application/Projects/{output_dir}\n"
     ]
    },
    {
     "name": "stderr",
     "output_type": "stream",
     "text": [
      "\n"
     ]
    }
   ],
   "source": [
    "#train neutral tweets\n",
    "sentiment = 'neutral'\n",
    "\n",
    "train_data = get_training_data(sentiment, train_cl)\n",
    "model_path = get_model_out_path(sentiment)\n",
    "\n",
    "train(train_data, model_path, n_iter=8, model=None)"
   ]
  },
  {
   "cell_type": "code",
   "execution_count": 81,
   "metadata": {},
   "outputs": [
    {
     "name": "stderr",
     "output_type": "stream",
     "text": [
      "  0%|          | 0/8 [00:00<?, ?it/s]"
     ]
    },
    {
     "name": "stdout",
     "output_type": "stream",
     "text": [
      "Created blank 'en' model\n"
     ]
    },
    {
     "name": "stderr",
     "output_type": "stream",
     "text": [
      " 12%|█▎        | 1/8 [00:45<05:17, 45.31s/it]"
     ]
    },
    {
     "name": "stdout",
     "output_type": "stream",
     "text": [
      "Losses {'ner': 24130.485537197324}\n"
     ]
    },
    {
     "name": "stderr",
     "output_type": "stream",
     "text": [
      " 25%|██▌       | 2/8 [01:27<04:26, 44.48s/it]"
     ]
    },
    {
     "name": "stdout",
     "output_type": "stream",
     "text": [
      "Losses {'ner': 21531.001712200203}\n"
     ]
    },
    {
     "name": "stderr",
     "output_type": "stream",
     "text": [
      " 38%|███▊      | 3/8 [02:05<03:31, 42.39s/it]"
     ]
    },
    {
     "name": "stdout",
     "output_type": "stream",
     "text": [
      "Losses {'ner': 19999.51426567797}\n"
     ]
    },
    {
     "name": "stderr",
     "output_type": "stream",
     "text": [
      " 50%|█████     | 4/8 [02:45<02:47, 41.78s/it]"
     ]
    },
    {
     "name": "stdout",
     "output_type": "stream",
     "text": [
      "Losses {'ner': 19096.220653970522}\n"
     ]
    },
    {
     "name": "stderr",
     "output_type": "stream",
     "text": [
      " 62%|██████▎   | 5/8 [03:25<02:03, 41.04s/it]"
     ]
    },
    {
     "name": "stdout",
     "output_type": "stream",
     "text": [
      "Losses {'ner': 18887.610484619305}\n"
     ]
    },
    {
     "name": "stderr",
     "output_type": "stream",
     "text": [
      " 75%|███████▌  | 6/8 [04:01<01:19, 39.76s/it]"
     ]
    },
    {
     "name": "stdout",
     "output_type": "stream",
     "text": [
      "Losses {'ner': 18134.17002244748}\n"
     ]
    },
    {
     "name": "stderr",
     "output_type": "stream",
     "text": [
      " 88%|████████▊ | 7/8 [04:47<00:41, 41.45s/it]"
     ]
    },
    {
     "name": "stdout",
     "output_type": "stream",
     "text": [
      "Losses {'ner': 17544.241354654434}\n"
     ]
    },
    {
     "name": "stderr",
     "output_type": "stream",
     "text": [
      "100%|██████████| 8/8 [05:37<00:00, 42.17s/it]"
     ]
    },
    {
     "name": "stdout",
     "output_type": "stream",
     "text": [
      "Losses {'ner': 17377.976046328782}\n",
      "Saved model to /Users/qingchuanlyu/Documents/Application/Projects/{output_dir}\n"
     ]
    },
    {
     "name": "stderr",
     "output_type": "stream",
     "text": [
      "\n"
     ]
    }
   ],
   "source": [
    "#train ne tweets\n",
    "sentiment = 'negative'\n",
    "\n",
    "train_data = get_training_data(sentiment, train_cl)\n",
    "model_path = get_model_out_path(sentiment)\n",
    "\n",
    "train(train_data, model_path, n_iter=8, model=None)"
   ]
  },
  {
   "cell_type": "code",
   "execution_count": null,
   "metadata": {},
   "outputs": [],
   "source": [
    "#make prediction based on trained models for each sentiment\n",
    "def predict_entities(text, model):\n",
    "    doc = model(text)\n",
    "    ent_array = []\n",
    "    #doc.ents: the named entities in the document. \n",
    "    #doc.ents returns a tuple of named entity Span objects, if the entity recognizer has been applied.\n",
    "    for ent in doc.ents:\n",
    "        start = text.find(ent.text)\n",
    "        end = start + len(ent.text)\n",
    "        new_int = [start, end, ent.label_]\n",
    "        if new_int not in ent_array:\n",
    "            ent_array.append([start, end, ent.label_])\n",
    "    #if the machine doesn't recognize an entity(support phrase), then use the original text to improve Jaccard Index\n",
    "    selected_text = text[ent_array[0][0]: ent_array[0][1]] if len(ent_array) > 0 else text\n",
    "    return selected_text"
   ]
  },
  {
   "cell_type": "code",
   "execution_count": null,
   "metadata": {},
   "outputs": [],
   "source": [
    "#compute Jaccard Index (similarity scores)\n",
    "def jaccard(str1, str2): \n",
    "    a = set(str1.lower().split()) \n",
    "    b = set(str2.lower().split())\n",
    "    if (len(a)==0) & (len(b)==0): return 0.5\n",
    "    c = a.intersection(b)\n",
    "    return float(len(c)) / (len(a) + len(b) - len(c))"
   ]
  },
  {
   "cell_type": "code",
   "execution_count": 82,
   "metadata": {},
   "outputs": [
    {
     "name": "stdout",
     "output_type": "stream",
     "text": [
      "Loading Models  from  /Users/qingchuanlyu/Documents/Application/Projects/tweet_sentiment_extraction/NER/models_cl/\n"
     ]
    },
    {
     "name": "stderr",
     "output_type": "stream",
     "text": [
      "100%|██████████| 27473/27473 [01:55<00:00, 237.93it/s]"
     ]
    },
    {
     "name": "stdout",
     "output_type": "stream",
     "text": [
      "Average Jaccard Score is 0.6814476358382915\n"
     ]
    },
    {
     "name": "stderr",
     "output_type": "stream",
     "text": [
      "\n"
     ]
    }
   ],
   "source": [
    "TRAINED_MODELS_BASE_PATH = '/Users/qingchuanlyu/Documents/Application/Projects/tweet_sentiment_extraction/NER/models_cl/'\n",
    "if TRAINED_MODELS_BASE_PATH is not None:\n",
    "    print(\"Loading Models  from \", TRAINED_MODELS_BASE_PATH)\n",
    "    model_pos = spacy.load(TRAINED_MODELS_BASE_PATH + 'model_pos')\n",
    "    model_neg = spacy.load(TRAINED_MODELS_BASE_PATH + 'model_neg')\n",
    "    model_neu = spacy.load(TRAINED_MODELS_BASE_PATH + 'model_neu')\n",
    "        \n",
    "    jaccard_score = 0\n",
    "    for index, row in tqdm(train_cl.iterrows(), total=train_cl.shape[0]): #tqdm shows a progress bar\n",
    "        text = row.text\n",
    "        if row.sentiment == 'neutral':\n",
    "            jaccard_score += jaccard(predict_entities(text, model_neu), row.selected_text)\n",
    "        elif row.sentiment == 'positive':\n",
    "            jaccard_score += jaccard(predict_entities(text, model_pos), row.selected_text)\n",
    "        else:\n",
    "            jaccard_score += jaccard(predict_entities(text, model_neg), row.selected_text) \n",
    "        \n",
    "    print(f'Average Jaccard Score is {jaccard_score / train_cl.shape[0]}')"
   ]
  },
  {
   "cell_type": "markdown",
   "metadata": {},
   "source": [
    "### Train raw data with Named-entity Recognition\n",
    "I used the same modeling approach. The only difference is now the raw data has all the original punctuations, special characters and stopping words. The purpose is to see if the Jaccard Index will be improved by including a little \"noise.\" Leading and trailing spaces still have to be removed for modeling purposes. "
   ]
  },
  {
   "cell_type": "code",
   "execution_count": 83,
   "metadata": {},
   "outputs": [],
   "source": [
    "#redefine output path for each model within a models_raw folder\n",
    "def get_model_out_path(sentiment):\n",
    "    model_out_path = None\n",
    "    if sentiment == 'positive':\n",
    "        model_out_path = '/Users/qingchuanlyu/Documents/Application/Projects/NER/models_raw/model_pos'\n",
    "    elif sentiment == 'negative':\n",
    "        model_out_path = '/Users/qingchuanlyu/Documents/Application/Projects/NER/models_raw/model_neg'\n",
    "    else:\n",
    "        model_out_path = '/Users/qingchuanlyu/Documents/Application/Projects/NER/models_raw/model_neu'\n",
    "    return model_out_path"
   ]
  },
  {
   "cell_type": "code",
   "execution_count": 84,
   "metadata": {},
   "outputs": [
    {
     "name": "stderr",
     "output_type": "stream",
     "text": [
      "  0%|          | 0/8 [00:00<?, ?it/s]"
     ]
    },
    {
     "name": "stdout",
     "output_type": "stream",
     "text": [
      "Created blank 'en' model\n"
     ]
    },
    {
     "name": "stderr",
     "output_type": "stream",
     "text": [
      " 12%|█▎        | 1/8 [01:03<07:22, 63.27s/it]"
     ]
    },
    {
     "name": "stdout",
     "output_type": "stream",
     "text": [
      "Losses {'ner': 34495.94609348581}\n"
     ]
    },
    {
     "name": "stderr",
     "output_type": "stream",
     "text": [
      " 25%|██▌       | 2/8 [02:04<06:15, 62.59s/it]"
     ]
    },
    {
     "name": "stdout",
     "output_type": "stream",
     "text": [
      "Losses {'ner': 31534.41414805119}\n"
     ]
    },
    {
     "name": "stderr",
     "output_type": "stream",
     "text": [
      " 38%|███▊      | 3/8 [03:04<05:09, 61.98s/it]"
     ]
    },
    {
     "name": "stdout",
     "output_type": "stream",
     "text": [
      "Losses {'ner': 29852.290283935185}\n"
     ]
    },
    {
     "name": "stderr",
     "output_type": "stream",
     "text": [
      " 50%|█████     | 4/8 [04:05<04:06, 61.71s/it]"
     ]
    },
    {
     "name": "stdout",
     "output_type": "stream",
     "text": [
      "Losses {'ner': 29023.090044928515}\n"
     ]
    },
    {
     "name": "stderr",
     "output_type": "stream",
     "text": [
      " 62%|██████▎   | 5/8 [05:07<03:05, 61.78s/it]"
     ]
    },
    {
     "name": "stdout",
     "output_type": "stream",
     "text": [
      "Losses {'ner': 28050.829018994376}\n"
     ]
    },
    {
     "name": "stderr",
     "output_type": "stream",
     "text": [
      " 75%|███████▌  | 6/8 [06:03<01:59, 59.82s/it]"
     ]
    },
    {
     "name": "stdout",
     "output_type": "stream",
     "text": [
      "Losses {'ner': 27570.81122575834}\n"
     ]
    },
    {
     "name": "stderr",
     "output_type": "stream",
     "text": [
      " 88%|████████▊ | 7/8 [07:04<01:00, 60.21s/it]"
     ]
    },
    {
     "name": "stdout",
     "output_type": "stream",
     "text": [
      "Losses {'ner': 26417.417637890263}\n"
     ]
    },
    {
     "name": "stderr",
     "output_type": "stream",
     "text": [
      "100%|██████████| 8/8 [08:23<00:00, 62.92s/it]"
     ]
    },
    {
     "name": "stdout",
     "output_type": "stream",
     "text": [
      "Losses {'ner': 26469.83920600991}\n",
      "Saved model to /Users/qingchuanlyu/Documents/Application/Projects/{output_dir}\n"
     ]
    },
    {
     "name": "stderr",
     "output_type": "stream",
     "text": [
      "\n"
     ]
    }
   ],
   "source": [
    "#train positive tweets\n",
    "sentiment = 'positive'\n",
    "\n",
    "train_data = get_training_data(sentiment, train_raw)\n",
    "model_path = get_model_out_path(sentiment)\n",
    "\n",
    "train(train_data, model_path, n_iter=8, model=None)"
   ]
  },
  {
   "cell_type": "code",
   "execution_count": 85,
   "metadata": {},
   "outputs": [
    {
     "name": "stdout",
     "output_type": "stream",
     "text": [
      "Created blank 'en' model\n"
     ]
    },
    {
     "name": "stderr",
     "output_type": "stream",
     "text": [
      " 12%|█▎        | 1/8 [01:00<07:05, 60.85s/it]"
     ]
    },
    {
     "name": "stdout",
     "output_type": "stream",
     "text": [
      "Losses {'ner': 31888.50084549922}\n"
     ]
    },
    {
     "name": "stderr",
     "output_type": "stream",
     "text": [
      " 25%|██▌       | 2/8 [01:54<05:52, 58.70s/it]"
     ]
    },
    {
     "name": "stdout",
     "output_type": "stream",
     "text": [
      "Losses {'ner': 29067.340677474087}\n"
     ]
    },
    {
     "name": "stderr",
     "output_type": "stream",
     "text": [
      " 38%|███▊      | 3/8 [03:06<05:12, 62.55s/it]"
     ]
    },
    {
     "name": "stdout",
     "output_type": "stream",
     "text": [
      "Losses {'ner': 27383.918844106625}\n"
     ]
    },
    {
     "name": "stderr",
     "output_type": "stream",
     "text": [
      " 50%|█████     | 4/8 [04:39<04:47, 71.79s/it]"
     ]
    },
    {
     "name": "stdout",
     "output_type": "stream",
     "text": [
      "Losses {'ner': 26737.240188338023}\n"
     ]
    },
    {
     "name": "stderr",
     "output_type": "stream",
     "text": [
      " 62%|██████▎   | 5/8 [06:19<04:01, 80.37s/it]"
     ]
    },
    {
     "name": "stdout",
     "output_type": "stream",
     "text": [
      "Losses {'ner': 25402.630098945898}\n"
     ]
    },
    {
     "name": "stderr",
     "output_type": "stream",
     "text": [
      " 75%|███████▌  | 6/8 [07:50<02:46, 83.35s/it]"
     ]
    },
    {
     "name": "stdout",
     "output_type": "stream",
     "text": [
      "Losses {'ner': 24267.038133249363}\n"
     ]
    },
    {
     "name": "stderr",
     "output_type": "stream",
     "text": [
      " 88%|████████▊ | 7/8 [09:14<01:23, 83.71s/it]"
     ]
    },
    {
     "name": "stdout",
     "output_type": "stream",
     "text": [
      "Losses {'ner': 23704.522552007526}\n"
     ]
    },
    {
     "name": "stderr",
     "output_type": "stream",
     "text": [
      "100%|██████████| 8/8 [10:34<00:00, 79.32s/it]"
     ]
    },
    {
     "name": "stdout",
     "output_type": "stream",
     "text": [
      "Losses {'ner': 23441.1051843297}\n",
      "Saved model to /Users/qingchuanlyu/Documents/Application/Projects/{output_dir}\n"
     ]
    },
    {
     "name": "stderr",
     "output_type": "stream",
     "text": [
      "\n"
     ]
    }
   ],
   "source": [
    "#train positive tweets\n",
    "sentiment = 'negative'\n",
    "\n",
    "train_data = get_training_data(sentiment, train_raw)\n",
    "model_path = get_model_out_path(sentiment)\n",
    "\n",
    "train(train_data, model_path, n_iter=8, model=None)"
   ]
  },
  {
   "cell_type": "code",
   "execution_count": 86,
   "metadata": {},
   "outputs": [
    {
     "name": "stdout",
     "output_type": "stream",
     "text": [
      "Created blank 'en' model\n"
     ]
    },
    {
     "name": "stderr",
     "output_type": "stream",
     "text": [
      " 12%|█▎        | 1/8 [01:41<11:47, 101.13s/it]"
     ]
    },
    {
     "name": "stdout",
     "output_type": "stream",
     "text": [
      "Losses {'ner': 7062.446562918399}\n"
     ]
    },
    {
     "name": "stderr",
     "output_type": "stream",
     "text": [
      " 25%|██▌       | 2/8 [03:15<09:53, 98.98s/it] "
     ]
    },
    {
     "name": "stdout",
     "output_type": "stream",
     "text": [
      "Losses {'ner': 5464.664182666726}\n"
     ]
    },
    {
     "name": "stderr",
     "output_type": "stream",
     "text": [
      " 38%|███▊      | 3/8 [04:58<08:21, 100.21s/it]"
     ]
    },
    {
     "name": "stdout",
     "output_type": "stream",
     "text": [
      "Losses {'ner': 5397.69580260112}\n"
     ]
    },
    {
     "name": "stderr",
     "output_type": "stream",
     "text": [
      " 50%|█████     | 4/8 [06:43<06:46, 101.73s/it]"
     ]
    },
    {
     "name": "stdout",
     "output_type": "stream",
     "text": [
      "Losses {'ner': 5286.877572375808}\n"
     ]
    },
    {
     "name": "stderr",
     "output_type": "stream",
     "text": [
      " 62%|██████▎   | 5/8 [08:23<05:03, 101.08s/it]"
     ]
    },
    {
     "name": "stdout",
     "output_type": "stream",
     "text": [
      "Losses {'ner': 5134.323974655159}\n"
     ]
    },
    {
     "name": "stderr",
     "output_type": "stream",
     "text": [
      " 75%|███████▌  | 6/8 [10:05<03:23, 101.51s/it]"
     ]
    },
    {
     "name": "stdout",
     "output_type": "stream",
     "text": [
      "Losses {'ner': 5295.005934208741}\n"
     ]
    },
    {
     "name": "stderr",
     "output_type": "stream",
     "text": [
      " 88%|████████▊ | 7/8 [11:45<01:41, 101.05s/it]"
     ]
    },
    {
     "name": "stdout",
     "output_type": "stream",
     "text": [
      "Losses {'ner': 4919.467996960818}\n"
     ]
    },
    {
     "name": "stderr",
     "output_type": "stream",
     "text": [
      "100%|██████████| 8/8 [13:26<00:00, 100.78s/it]"
     ]
    },
    {
     "name": "stdout",
     "output_type": "stream",
     "text": [
      "Losses {'ner': 4914.747258997393}\n",
      "Saved model to /Users/qingchuanlyu/Documents/Application/Projects/{output_dir}\n"
     ]
    },
    {
     "name": "stderr",
     "output_type": "stream",
     "text": [
      "\n"
     ]
    }
   ],
   "source": [
    "#train positive tweets\n",
    "sentiment = 'neutral'\n",
    "\n",
    "train_data = get_training_data(sentiment, train_raw)\n",
    "model_path = get_model_out_path(sentiment)\n",
    "\n",
    "train(train_data, model_path, n_iter=8, model=None)"
   ]
  },
  {
   "cell_type": "code",
   "execution_count": 89,
   "metadata": {},
   "outputs": [
    {
     "name": "stdout",
     "output_type": "stream",
     "text": [
      "Loading Models  from  /Users/qingchuanlyu/Documents/Application/Projects/tweet_sentiment_extraction/NER/models_raw/\n"
     ]
    },
    {
     "name": "stderr",
     "output_type": "stream",
     "text": [
      "100%|██████████| 27480/27480 [01:57<00:00, 234.11it/s]"
     ]
    },
    {
     "name": "stdout",
     "output_type": "stream",
     "text": [
      "Average Jaccard Score is 0.7794439920934414\n"
     ]
    },
    {
     "name": "stderr",
     "output_type": "stream",
     "text": [
      "\n"
     ]
    }
   ],
   "source": [
    "#compute avg Jaccard Index in the same way as before with the cleaned data\n",
    "TRAINED_MODELS_BASE_PATH = '/Users/qingchuanlyu/Documents/Application/Projects/tweet_sentiment_extraction/NER/models_raw/'\n",
    "if TRAINED_MODELS_BASE_PATH is not None:\n",
    "    print(\"Loading Models  from \", TRAINED_MODELS_BASE_PATH)\n",
    "    model_pos = spacy.load(TRAINED_MODELS_BASE_PATH + 'model_pos')\n",
    "    model_neg = spacy.load(TRAINED_MODELS_BASE_PATH + 'model_neg')\n",
    "    model_neu = spacy.load(TRAINED_MODELS_BASE_PATH + 'model_neu')\n",
    "        \n",
    "    jaccard_score = 0\n",
    "    for index, row in tqdm(train_raw.iterrows(), total=train_raw.shape[0]):\n",
    "        text = row.text\n",
    "        if row.sentiment == 'neutral':\n",
    "            jaccard_score += jaccard(predict_entities(text, model_neu), row.selected_text)\n",
    "        elif row.sentiment == 'positive':\n",
    "            jaccard_score += jaccard(predict_entities(text, model_pos), row.selected_text)\n",
    "        else:\n",
    "            jaccard_score += jaccard(predict_entities(text, model_neg), row.selected_text) \n",
    "        \n",
    "    print(f'Average Jaccard Score is {jaccard_score / train_raw.shape[0]}')"
   ]
  },
  {
   "cell_type": "markdown",
   "metadata": {},
   "source": [
    "Jaccard Score without removing punctuations, special characters and stopping words is slightly higher than that with cleaned texts (0.78 vs 0.68)."
   ]
  },
  {
   "cell_type": "markdown",
   "metadata": {},
   "source": [
    "### Train data with CNN embedded with RoBERTa\n",
    "RoBERTa is a complicated bi-directional encoder pre-training system, and already takes care of special characters, stopping words and punctuations. Therefore, I trained raw data with a convolutional neural network embedded with RoBERTa for each sentiment."
   ]
  },
  {
   "cell_type": "code",
   "execution_count": 70,
   "metadata": {},
   "outputs": [],
   "source": [
    "#copy raw data\n",
    "train_rb = train_raw.copy()"
   ]
  },
  {
   "cell_type": "code",
   "execution_count": 84,
   "metadata": {},
   "outputs": [],
   "source": [
    "#tune hyperparameters;\n",
    "#initialize tuple shape\n",
    "MAX_LEN = 106\n",
    "#padding to put texts of different lengths in a tensor\n",
    "PAD_ID = 1\n",
    "#learning rate\n",
    "lr = 0.012\n",
    "#set up seeds\n",
    "SEED = 88888\n",
    "tf.random.set_seed(SEED)\n",
    "np.random.seed(SEED)\n",
    "#to address overfitting and overconfidence\n",
    "LABEL_SMOOTHING = 0.1\n",
    "Dropout_new = 0.18     \n",
    "#five folds\n",
    "n_split = 5            \n",
    "\n",
    "#the input training data was sorted by sentiments\n",
    "#the last index of each sentiment category\n",
    "sentiment_id = {'positive': 1313, 'negative': 2430, 'neutral': 7974}"
   ]
  },
  {
   "cell_type": "code",
   "execution_count": 88,
   "metadata": {},
   "outputs": [],
   "source": [
    "#pre-trained model path\n",
    "PATH = '/Users/qingchuanlyu/Documents/Application/Projects/tweet_sentiment_extraction/TF_Roberta/'\n",
    "#RoBERTa requires tokenizer\n",
    "tokenizer = tokenizers.ByteLevelBPETokenizer(\n",
    "    PATH+'vocab-roberta-base.json', \n",
    "    PATH+'merges-roberta-base.txt', \n",
    "    lowercase=True,\n",
    "    add_prefix_space=True\n",
    ")"
   ]
  },
  {
   "cell_type": "code",
   "execution_count": 89,
   "metadata": {},
   "outputs": [],
   "source": [
    "#token indices, numerical representations of tokens building the sequences that will be used as input by the model\n",
    "input_ids = np.ones((ct,MAX_LEN),dtype='int32')\n",
    "#The attention mask is a binary tensor indicating the position of the padded indices so that the model does not attend to them-->which token needs to be attended\n",
    "attention_mask = np.zeros((ct,MAX_LEN),dtype='int32')\n",
    "#token_type_ids are represented as a binary mask identifying the two types of sequence in the model, such as a question and an answer\n",
    "token_type_ids = np.zeros((ct,MAX_LEN),dtype='int32')\n",
    "\n",
    "start_tokens = np.zeros((ct,MAX_LEN),dtype='int32')\n",
    "end_tokens = np.zeros((ct,MAX_LEN),dtype='int32')\n",
    "\n",
    "for k in range(train.shape[0]):\n",
    "    \n",
    "    #find overlaps between texts and selected texts\n",
    "    #access the k'th row\n",
    "    text1 = \" \"+\" \".join(train_rb.loc[k,'text'].split())\n",
    "    text2 = \" \".join(train_rb.loc[k,'selected_text'].split())\n",
    "    #the lowest index of the substring: starting point of selected text in a text\n",
    "    #if not found, return -1\n",
    "    idx = text1.find(text2)\n",
    "    chars = np.zeros((len(text1)))\n",
    "    #mask selected text as 1\n",
    "    chars[idx:idx+len(text2)]=1 \n",
    "    #tokenize texts\n",
    "    enc = tokenizer.encode(text1)  \n",
    "        \n",
    "    #offset index of word in texts: beginning and length of words\n",
    "    offsets = []; idx=0\n",
    "    for t in enc.ids:\n",
    "        w = tokenizer.decode([t])\n",
    "        offsets.append((idx,idx+len(w)))\n",
    "        idx += len(w)\n",
    "    \n",
    "    toks = []\n",
    "    #for each word, if it's included in a selected text, append this word's index to toks\n",
    "    for i,(a,b) in enumerate(offsets):\n",
    "        sm = np.sum(chars[a:b])\n",
    "        if sm>0: toks.append(i) \n",
    "        \n",
    "    #generate fully encoded tokens for each row\n",
    "    #extract the representative number of sentiments\n",
    "    s_tok = sentiment_id[train.loc[k,'sentiment']]\n",
    "    #Besides binary indicators, add an additional token 2 at the end\n",
    "    input_ids[k,:len(enc.ids)+3] = [0, s_tok] + enc.ids + [2]\n",
    "    #mask padded indices\n",
    "    attention_mask[k,:len(enc.ids)+3] = 1\n",
    "    #for a row with a non-missing selected text\n",
    "    if len(toks)>0:\n",
    "        #mark the starting point of a token as the second (the first is 0)\n",
    "        start_tokens[k,toks[0]+2] = 1\n",
    "        end_tokens[k,toks[-1]+2] = 1"
   ]
  },
  {
   "cell_type": "code",
   "execution_count": 104,
   "metadata": {},
   "outputs": [],
   "source": [
    "#define a networking model with Tensorflow\n",
    "def build_model():\n",
    "    ids = tf.keras.layers.Input((MAX_LEN,), dtype=tf.int32)\n",
    "    att = tf.keras.layers.Input((MAX_LEN,), dtype=tf.int32)\n",
    "    tok = tf.keras.layers.Input((MAX_LEN,), dtype=tf.int32)\n",
    "\n",
    "    config = RobertaConfig.from_pretrained(PATH+'config-roberta-base.json')\n",
    "    bert_model = TFRobertaModel.from_pretrained(PATH+'pretrained-roberta-base.h5',config=config)\n",
    "    x = bert_model(ids,attention_mask=att,token_type_ids=tok)\n",
    "    \n",
    "    #avoid overfitting: dropout layer randomly sets input units to 0 with a frequency of rate at each step during training time\n",
    "    x1 = tf.keras.layers.Dropout(0.1)(x[0]) \n",
    "    #1D operates on two signals: input and kernel (filter). sequences of 128 vectors of 2-dimensional vectors\n",
    "    #padding = \"same\" results in padding evenly to the left/right or up/down of the input such that output has the same height/width dimension as the input\n",
    "    x1 = tf.keras.layers.Conv1D(128, 2,padding='same')(x1)\n",
    "    #use leaky version to avoid many dead neurons with plain rectifier\n",
    "    x1 = tf.keras.layers.LeakyReLU()(x1)\n",
    "    x1 = tf.keras.layers.Conv1D(64, 2,padding='same')(x1)\n",
    "    #densely connected\n",
    "    x1 = tf.keras.layers.Dense(1)(x1)\n",
    "    x1 = tf.keras.layers.Flatten()(x1)\n",
    "    #only two classes: support phrases or not. use softmax as two classes are mutually exclusive\n",
    "    x1 = tf.keras.layers.Activation('softmax')(x1)\n",
    "    #4 layers\n",
    "    \n",
    "    model = tf.keras.models.Model(inputs=[ids, att, tok], outputs=[x1])\n",
    "    #Adam assigns more learning rate to sparse words and doesn't require a learning_rate to start with\n",
    "    optimizer = tf.keras.optimizers.Adam(learning_rate=3e-5)\n",
    "    #use binary crossentropy loss from MLE for binary prediction\n",
    "    model.compile(loss='binary_crossentropy', optimizer=optimizer)\n",
    "\n",
    "    return model"
   ]
  },
  {
   "cell_type": "code",
   "execution_count": null,
   "metadata": {},
   "outputs": [],
   "source": [
    "#initialize starting and end points of prediction windows\n",
    "preds_start = np.zeros((input_ids.shape[0], MAX_LEN))\n",
    "preds_end = np.zeros((input_ids.shape[0], MAX_LEN))\n",
    "\n",
    "#training Roberta\n",
    "DISPLAY=1\n",
    "for i in range(5):\n",
    "    #load weights from pretrained model\n",
    "    K.clear_session()\n",
    "    model = build_model()\n",
    "    #save as pretrained weights for future\n",
    "    model.save_weights('/Users/qingchuanlyu/Documents/Application/Projects/tweet_sentiment_extraction/pretrained_tweet_weights/v4-roberta-%i.h5'%i)\n",
    "    model.load_weights('/Users/qingchuanlyu/Documents/Application/Projects/tweet_sentiment_extraction/pretrained_tweet_weights/v4-roberta-%i.h5'%i)\n",
    "    \n",
    "    print('Predicting support phrases...')\n",
    "    preds = model.predict([input_ids,attention_mask,token_type_ids],verbose=DISPLAY)\n",
    "    #move forwards prediction windows\n",
    "    preds_start += preds[0]/n_splits\n",
    "    preds_end += preds[1]/n_splits"
   ]
  },
  {
   "cell_type": "code",
   "execution_count": null,
   "metadata": {},
   "outputs": [],
   "source": [
    "#output the predicted selected texts as a new column in the training set\n",
    "all = []\n",
    "for k in range(input_ids.shape[0]):\n",
    "    a = np.argmax(preds_start[k,])\n",
    "    b = np.argmax(preds_end[k,])\n",
    "    if a>b: \n",
    "        st = train.loc[k,'text']\n",
    "    else:\n",
    "        text1 = \" \"+\" \".join(train.loc[k,'text'].split())\n",
    "        enc = tokenizer.encode(text1)\n",
    "        st = tokenizer.decode(enc.ids[a-1:b])\n",
    "    all.append(st)\n",
    "train['selected_text_predicted'] = all"
   ]
  },
  {
   "cell_type": "code",
   "execution_count": null,
   "metadata": {},
   "outputs": [],
   "source": [
    "#compute overall Jaccard Index\n",
    "jaccard_score = 0\n",
    "for index, row in tqdm(train.iterrows(), total=train.shape[0]):\n",
    "    jaccard_score += jaccard(row.selected_text_predicted, row.selected_text)\n",
    "    \n",
    "print(f'Average Jaccard Score is {jaccard_score / train.shape[0]}')"
   ]
  },
  {
   "cell_type": "markdown",
   "metadata": {},
   "source": [
    "It took a very long time to train CNN embedded with Roberta, so I moved the last three cells to an online API with a GPU accelerator.\n",
    "\n",
    "The average Jaccard Score is 0.74 with CNN embedded with Roberta, higher than the Jaccard Index of training cleaned data with NER (0.68) and lower than the Jaccard Index of training raw data with NER (0.78). Besides, NER has a much less training time compared with that of Roberta (29 minutes vs greater than 1 hour 48 minutes without GPU). Below are the screenshots of CNN plus Roberta results with GPU (<15 minutes):"
   ]
  },
  {
   "cell_type": "code",
   "execution_count": 2,
   "metadata": {},
   "outputs": [
    {
     "data": {
      "image/png": "[encoded data removed]",
      "text/plain": [
       "<IPython.core.display.Image object>"
      ]
     },
     "execution_count": 2,
     "metadata": {},
     "output_type": "execute_result"
    }
   ],
   "source": [
    "Image('/Users/qingchuanlyu/Documents/Application/Projects/tweet_sentiment_extraction/CNN_progress_bars.png')"
   ]
  },
  {
   "cell_type": "code",
   "execution_count": 3,
   "metadata": {},
   "outputs": [
    {
     "data": {
      "image/png": "[encoded data removed]",
      "text/plain": [
       "<IPython.core.display.Image object>"
      ]
     },
     "execution_count": 3,
     "metadata": {},
     "output_type": "execute_result"
    }
   ],
   "source": [
    "Image('/Users/qingchuanlyu/Documents/Application/Projects/tweet_sentiment_extraction/CNN_Jaccard_Index.png')"
   ]
  },
  {
   "cell_type": "code",
   "execution_count": null,
   "metadata": {},
   "outputs": [],
   "source": []
  }
 ],
 "metadata": {
  "kernelspec": {
   "display_name": "Python 3",
   "language": "python",
   "name": "python3"
  },
  "language_info": {
   "codemirror_mode": {
    "name": "ipython",
    "version": 3
   },
   "file_extension": ".py",
   "mimetype": "text/x-python",
   "name": "python",
   "nbconvert_exporter": "python",
   "pygments_lexer": "ipython3",
   "version": "3.8.5"
  }
 },
 "nbformat": 4,
 "nbformat_minor": 4
}
